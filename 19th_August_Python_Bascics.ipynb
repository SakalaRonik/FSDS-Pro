{
 "cells": [
  {
   "cell_type": "markdown",
   "id": "fcb87b57-4679-499a-8266-47fe625ad6f3",
   "metadata": {
    "tags": []
   },
   "source": [
    "## Basic variable based questions"
   ]
  },
  {
   "cell_type": "markdown",
   "id": "32830ced-715a-49b3-9ede-9599b7abbc6e",
   "metadata": {},
   "source": [
    "1. Declare two variables, `x` and `y`, and assign them integer values. Swap the values of these variables without using any temporary variable.\n"
   ]
  },
  {
   "cell_type": "code",
   "execution_count": 1,
   "id": "4e0d2bc1-60b7-40e9-ba29-70314016505d",
   "metadata": {},
   "outputs": [
    {
     "name": "stdout",
     "output_type": "stream",
     "text": [
      "Before Swapping the value of x: 10 y: 20\n",
      "Before Swapping the value of x: 20 y: 10\n"
     ]
    }
   ],
   "source": [
    "# Assignment of x and y\n",
    "x=10\n",
    "y=20\n",
    "print(\"Before Swapping the value of x:\",x,\"y:\",y)\n",
    "# swapping of two variables without using Temporary variable\n",
    "x,y = y,x\n",
    "print(\"Before Swapping the value of x:\",x,\"y:\",y)"
   ]
  },
  {
   "cell_type": "markdown",
   "id": "f1c3ada2-b9e7-49d3-bc6e-2798b39b0caf",
   "metadata": {},
   "source": [
    "2. Create a program that calculates the area of a rectangle. Take the length and width as inputs from the user and store them in variables. Calculate and display the area."
   ]
  },
  {
   "cell_type": "code",
   "execution_count": 8,
   "id": "5d7648cf-37e2-42ad-bc5d-7b4e87cd7077",
   "metadata": {},
   "outputs": [
    {
     "name": "stdout",
     "output_type": "stream",
     "text": [
      "Enter the lenght of the rectangle 5\n",
      "Enter the width of the rectangle 5\n"
     ]
    },
    {
     "name": "stdout",
     "output_type": "stream",
     "text": [
      "The Area of the rectangle is 25\n"
     ]
    }
   ],
   "source": [
    "# Take Input of Length and width\n",
    "length=int(input(\"Enter the lenght of the rectangle\"))\n",
    "width=int(input(\"Enter the width of the rectangle\"))\n",
    "# Area of rectangle is length times width\n",
    "area = length * width\n",
    "print(\"The Area of the rectangle is\",area)"
   ]
  },
  {
   "cell_type": "markdown",
   "id": "b3295851-defe-4f01-b7d4-95a8dd65c014",
   "metadata": {},
   "source": [
    "3. Write a Python program that converts temperatures from Celsius to Fahrenheit. Take the temperature in Celsius as input, store it in a variable, convert it to Fahrenheit, and display the result.\n",
    "\n"
   ]
  },
  {
   "cell_type": "code",
   "execution_count": 1,
   "id": "ca3de647-a2c1-4fa3-b581-54f08554b595",
   "metadata": {},
   "outputs": [
    {
     "name": "stdout",
     "output_type": "stream",
     "text": [
      "Enter the Temperature in Celsius 25\n"
     ]
    },
    {
     "name": "stdout",
     "output_type": "stream",
     "text": [
      "The Temperature in Fahrenheit for the given celsius temperature is 77.0\n"
     ]
    }
   ],
   "source": [
    "celsius = int(input(\"Enter the Temperature in Celsius\"))\n",
    "# Formula to convert Fahrenheit to celsius\n",
    "Fahrenheit = ((9*celsius)+160)/5\n",
    "print(\"The Temperature in Fahrenheit for the given celsius temperature is\",Fahrenheit)"
   ]
  },
  {
   "cell_type": "markdown",
   "id": "37db2781-33b9-4c57-b37a-e6a072ed1e4f",
   "metadata": {
    "tags": []
   },
   "source": [
    "## String based questions \n"
   ]
  },
  {
   "cell_type": "markdown",
   "id": "5ebdf7fc-0bef-49ca-bdc8-c6525f979959",
   "metadata": {},
   "source": [
    "1. Write a Python program that takes a string as input and prints the length of the string."
   ]
  },
  {
   "cell_type": "code",
   "execution_count": 8,
   "id": "58684131-2ace-49ca-934a-4104df4356f3",
   "metadata": {},
   "outputs": [
    {
     "name": "stdout",
     "output_type": "stream",
     "text": [
      "Enter the String Ronik\n"
     ]
    },
    {
     "name": "stdout",
     "output_type": "stream",
     "text": [
      "The lenght of the String is 5\n"
     ]
    }
   ],
   "source": [
    "string = input(\"Enter the String\")\n",
    "length = len(string)\n",
    "print(\"The lenght of the String is\",length)"
   ]
  },
  {
   "cell_type": "markdown",
   "id": "8f03e0fe-3d7d-436b-a605-9a5667156f32",
   "metadata": {},
   "source": [
    "2. Create a program that takes a sentence from the user and counts the number of vowels (a, e, i, o, u) in the string."
   ]
  },
  {
   "cell_type": "code",
   "execution_count": 25,
   "id": "f7b341c1-da4e-45ff-9329-b722946e73ff",
   "metadata": {},
   "outputs": [
    {
     "name": "stdout",
     "output_type": "stream",
     "text": [
      "Enter the String aeiou AEIOU\n"
     ]
    },
    {
     "name": "stdout",
     "output_type": "stream",
     "text": [
      "The number of vowels in aeiou AEIOU  is 10\n"
     ]
    }
   ],
   "source": [
    "string = input(\"Enter the String\")\n",
    "count=0\n",
    "for i in string:\n",
    "    if i in \"aeiouAEIOU\":\n",
    "        count+=1\n",
    "print(\"The number of vowels in\",string,\" is\",count)"
   ]
  },
  {
   "cell_type": "markdown",
   "id": "0b692e5a-6f1d-40c0-9629-0dafaf915222",
   "metadata": {},
   "source": [
    "3. Given a string, reverse the order of characters using string slicing and print the reversed string.\n"
   ]
  },
  {
   "cell_type": "code",
   "execution_count": 10,
   "id": "6a40cd03-30b0-4f66-adf2-774decbe8712",
   "metadata": {},
   "outputs": [
    {
     "name": "stdout",
     "output_type": "stream",
     "text": [
      "Enter the String Ronik\n"
     ]
    },
    {
     "name": "stdout",
     "output_type": "stream",
     "text": [
      "Reverse of the Ronik is kinoR\n"
     ]
    }
   ],
   "source": [
    "string = input(\"Enter the String\")\n",
    "# Reversing the String\n",
    "revString = string[::-1]\n",
    "print(\"Reverse of the\",string,\"is\",revString)"
   ]
  },
  {
   "cell_type": "markdown",
   "id": "791f6303-6ac1-4c39-8606-aae182b99d1a",
   "metadata": {},
   "source": [
    "4. Write a program that takes a string as input and checks if it is a palindrome (reads the same forwards and backwards)."
   ]
  },
  {
   "cell_type": "code",
   "execution_count": 11,
   "id": "7c5b0fac-d197-49d3-9e84-f431a0022e8b",
   "metadata": {},
   "outputs": [
    {
     "name": "stdout",
     "output_type": "stream",
     "text": [
      "Enter the String madam\n"
     ]
    },
    {
     "name": "stdout",
     "output_type": "stream",
     "text": [
      "The given String is Palindrome\n"
     ]
    }
   ],
   "source": [
    "string = input(\"Enter the String\")\n",
    "# Reversing the String\n",
    "revString = string[::-1]\n",
    "# Checking weather the string and RevString is equal or not\n",
    "if(string == revString):\n",
    "    print(\"The given String is Palindrome\")\n",
    "else:\n",
    "    print(\"The given String is not Palindrome\")"
   ]
  },
  {
   "cell_type": "markdown",
   "id": "403a6004-7925-4f57-b97b-daaed980a8f5",
   "metadata": {},
   "source": [
    "5. Create a program that takes a string as input and removes all the spaces from it. Print the modified string without spaces."
   ]
  },
  {
   "cell_type": "code",
   "execution_count": 20,
   "id": "3a6b9af3-47e4-43f2-89ba-077c3ff9b0d5",
   "metadata": {},
   "outputs": [
    {
     "name": "stdout",
     "output_type": "stream",
     "text": [
      "Enter the String My Name is Ronik and I Love DataScience\n"
     ]
    },
    {
     "name": "stdout",
     "output_type": "stream",
     "text": [
      "The String after removing spaces is MyNameisRonikandILoveDataScience\n"
     ]
    }
   ],
   "source": [
    "string = input(\"Enter the String\")\n",
    "# Removing blank spaces\n",
    "newString = string.replace(\" \",\"\")\n",
    "print(\"The String after removing spaces is\",newString)"
   ]
  }
 ],
 "metadata": {
  "kernelspec": {
   "display_name": "Python 3 (ipykernel)",
   "language": "python",
   "name": "python3"
  },
  "language_info": {
   "codemirror_mode": {
    "name": "ipython",
    "version": 3
   },
   "file_extension": ".py",
   "mimetype": "text/x-python",
   "name": "python",
   "nbconvert_exporter": "python",
   "pygments_lexer": "ipython3",
   "version": "3.11.3"
  }
 },
 "nbformat": 4,
 "nbformat_minor": 5
}
